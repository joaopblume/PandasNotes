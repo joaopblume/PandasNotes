{
 "cells": [
  {
   "cell_type": "markdown",
   "id": "7c0eb0d3-5d33-4e5d-920c-98b479b582c6",
   "metadata": {},
   "source": [
    "# Analise Exploratoria"
   ]
  },
  {
   "cell_type": "code",
   "execution_count": 2,
   "id": "2a42a7a6-7b1c-4ffb-b031-eda7cf00f8e2",
   "metadata": {},
   "outputs": [],
   "source": [
    "import pandas as pd\n",
    "import matplotlib.pyplot as plt\n",
    "\n",
    "plt.style.use('seaborn-v0_8')"
   ]
  },
  {
   "cell_type": "code",
   "execution_count": 3,
   "id": "2918aab5-e9c6-408e-b91c-dfd6abfb1c93",
   "metadata": {},
   "outputs": [
    {
     "name": "stdout",
     "output_type": "stream",
     "text": [
      "Archive:  archive.zip\n",
      "caution: filename not matched:  -y\n"
     ]
    }
   ],
   "source": [
    "!unzip archive.zip -y"
   ]
  },
  {
   "cell_type": "code",
   "execution_count": 4,
   "id": "4dab57d4-1ef3-4651-8c48-714ec2e19535",
   "metadata": {},
   "outputs": [
    {
     "data": {
      "text/html": [
       "<div>\n",
       "<style scoped>\n",
       "    .dataframe tbody tr th:only-of-type {\n",
       "        vertical-align: middle;\n",
       "    }\n",
       "\n",
       "    .dataframe tbody tr th {\n",
       "        vertical-align: top;\n",
       "    }\n",
       "\n",
       "    .dataframe thead th {\n",
       "        text-align: right;\n",
       "    }\n",
       "</style>\n",
       "<table border=\"1\" class=\"dataframe\">\n",
       "  <thead>\n",
       "    <tr style=\"text-align: right;\">\n",
       "      <th></th>\n",
       "      <th>SalesOrderNumber</th>\n",
       "      <th>OrderDate</th>\n",
       "      <th>ProductKey</th>\n",
       "      <th>ResellerKey</th>\n",
       "      <th>EmployeeKey</th>\n",
       "      <th>SalesTerritoryKey</th>\n",
       "      <th>Quantity</th>\n",
       "      <th>Unit Price</th>\n",
       "      <th>Sales</th>\n",
       "      <th>Cost</th>\n",
       "    </tr>\n",
       "  </thead>\n",
       "  <tbody>\n",
       "    <tr>\n",
       "      <th>0</th>\n",
       "      <td>SO43897</td>\n",
       "      <td>Friday, August 25, 2017</td>\n",
       "      <td>235</td>\n",
       "      <td>312</td>\n",
       "      <td>282</td>\n",
       "      <td>4</td>\n",
       "      <td>2</td>\n",
       "      <td>$28.84</td>\n",
       "      <td>$57.68</td>\n",
       "      <td>$63.45</td>\n",
       "    </tr>\n",
       "    <tr>\n",
       "      <th>1</th>\n",
       "      <td>SO43897</td>\n",
       "      <td>Friday, August 25, 2017</td>\n",
       "      <td>351</td>\n",
       "      <td>312</td>\n",
       "      <td>282</td>\n",
       "      <td>4</td>\n",
       "      <td>2</td>\n",
       "      <td>$2,024.99</td>\n",
       "      <td>$4,049.98</td>\n",
       "      <td>$3,796.19</td>\n",
       "    </tr>\n",
       "    <tr>\n",
       "      <th>2</th>\n",
       "      <td>SO43897</td>\n",
       "      <td>Friday, August 25, 2017</td>\n",
       "      <td>348</td>\n",
       "      <td>312</td>\n",
       "      <td>282</td>\n",
       "      <td>4</td>\n",
       "      <td>2</td>\n",
       "      <td>$2,024.99</td>\n",
       "      <td>$4,049.98</td>\n",
       "      <td>$3,796.19</td>\n",
       "    </tr>\n",
       "    <tr>\n",
       "      <th>3</th>\n",
       "      <td>SO43897</td>\n",
       "      <td>Friday, August 25, 2017</td>\n",
       "      <td>232</td>\n",
       "      <td>312</td>\n",
       "      <td>282</td>\n",
       "      <td>4</td>\n",
       "      <td>2</td>\n",
       "      <td>$28.84</td>\n",
       "      <td>$57.68</td>\n",
       "      <td>$63.45</td>\n",
       "    </tr>\n",
       "    <tr>\n",
       "      <th>4</th>\n",
       "      <td>SO44544</td>\n",
       "      <td>Saturday, November 18, 2017</td>\n",
       "      <td>292</td>\n",
       "      <td>312</td>\n",
       "      <td>282</td>\n",
       "      <td>4</td>\n",
       "      <td>2</td>\n",
       "      <td>$818.7</td>\n",
       "      <td>$1,637.4</td>\n",
       "      <td>$1,413.62</td>\n",
       "    </tr>\n",
       "  </tbody>\n",
       "</table>\n",
       "</div>"
      ],
      "text/plain": [
       "  SalesOrderNumber                    OrderDate  ProductKey  ResellerKey  \\\n",
       "0          SO43897      Friday, August 25, 2017         235          312   \n",
       "1          SO43897      Friday, August 25, 2017         351          312   \n",
       "2          SO43897      Friday, August 25, 2017         348          312   \n",
       "3          SO43897      Friday, August 25, 2017         232          312   \n",
       "4          SO44544  Saturday, November 18, 2017         292          312   \n",
       "\n",
       "   EmployeeKey  SalesTerritoryKey  Quantity Unit Price      Sales       Cost  \n",
       "0          282                  4         2     $28.84     $57.68     $63.45  \n",
       "1          282                  4         2  $2,024.99  $4,049.98  $3,796.19  \n",
       "2          282                  4         2  $2,024.99  $4,049.98  $3,796.19  \n",
       "3          282                  4         2     $28.84     $57.68     $63.45  \n",
       "4          282                  4         2     $818.7   $1,637.4  $1,413.62  "
      ]
     },
     "execution_count": 4,
     "metadata": {},
     "output_type": "execute_result"
    }
   ],
   "source": [
    "df = pd.read_csv('Sales.csv', sep='\\t')\n",
    "df.head()"
   ]
  },
  {
   "cell_type": "code",
   "execution_count": 5,
   "id": "762b36fd-c2b6-4fff-b284-cf0f5272f1b3",
   "metadata": {},
   "outputs": [
    {
     "data": {
      "text/plain": [
       "(57851, 10)"
      ]
     },
     "execution_count": 5,
     "metadata": {},
     "output_type": "execute_result"
    }
   ],
   "source": [
    "df.shape"
   ]
  },
  {
   "cell_type": "code",
   "execution_count": 6,
   "id": "322cd094-b339-4d61-9e6b-101fa8f91fcd",
   "metadata": {},
   "outputs": [
    {
     "data": {
      "text/plain": [
       "SalesOrderNumber     object\n",
       "OrderDate            object\n",
       "ProductKey            int64\n",
       "ResellerKey           int64\n",
       "EmployeeKey           int64\n",
       "SalesTerritoryKey     int64\n",
       "Quantity              int64\n",
       "Unit Price           object\n",
       "Sales                object\n",
       "Cost                 object\n",
       "dtype: object"
      ]
     },
     "execution_count": 6,
     "metadata": {},
     "output_type": "execute_result"
    }
   ],
   "source": [
    "df.dtypes"
   ]
  },
  {
   "cell_type": "code",
   "execution_count": 7,
   "id": "3b4db48a-7b53-4384-a2b9-ac1d118c6025",
   "metadata": {},
   "outputs": [
    {
     "data": {
      "text/html": [
       "<div>\n",
       "<style scoped>\n",
       "    .dataframe tbody tr th:only-of-type {\n",
       "        vertical-align: middle;\n",
       "    }\n",
       "\n",
       "    .dataframe tbody tr th {\n",
       "        vertical-align: top;\n",
       "    }\n",
       "\n",
       "    .dataframe thead th {\n",
       "        text-align: right;\n",
       "    }\n",
       "</style>\n",
       "<table border=\"1\" class=\"dataframe\">\n",
       "  <thead>\n",
       "    <tr style=\"text-align: right;\">\n",
       "      <th></th>\n",
       "      <th>SalesOrderNumber</th>\n",
       "      <th>OrderDate</th>\n",
       "      <th>ProductKey</th>\n",
       "      <th>ResellerKey</th>\n",
       "      <th>EmployeeKey</th>\n",
       "      <th>SalesTerritoryKey</th>\n",
       "      <th>Quantity</th>\n",
       "      <th>Unit Price</th>\n",
       "      <th>Sales</th>\n",
       "      <th>Cost</th>\n",
       "    </tr>\n",
       "  </thead>\n",
       "  <tbody>\n",
       "    <tr>\n",
       "      <th>0</th>\n",
       "      <td>SO43897</td>\n",
       "      <td>Friday, August 25, 2017</td>\n",
       "      <td>235</td>\n",
       "      <td>312</td>\n",
       "      <td>282</td>\n",
       "      <td>4</td>\n",
       "      <td>2</td>\n",
       "      <td>28.84</td>\n",
       "      <td>57.68</td>\n",
       "      <td>63.45</td>\n",
       "    </tr>\n",
       "    <tr>\n",
       "      <th>1</th>\n",
       "      <td>SO43897</td>\n",
       "      <td>Friday, August 25, 2017</td>\n",
       "      <td>351</td>\n",
       "      <td>312</td>\n",
       "      <td>282</td>\n",
       "      <td>4</td>\n",
       "      <td>2</td>\n",
       "      <td>2024.99</td>\n",
       "      <td>4049.98</td>\n",
       "      <td>3796.19</td>\n",
       "    </tr>\n",
       "    <tr>\n",
       "      <th>2</th>\n",
       "      <td>SO43897</td>\n",
       "      <td>Friday, August 25, 2017</td>\n",
       "      <td>348</td>\n",
       "      <td>312</td>\n",
       "      <td>282</td>\n",
       "      <td>4</td>\n",
       "      <td>2</td>\n",
       "      <td>2024.99</td>\n",
       "      <td>4049.98</td>\n",
       "      <td>3796.19</td>\n",
       "    </tr>\n",
       "    <tr>\n",
       "      <th>3</th>\n",
       "      <td>SO43897</td>\n",
       "      <td>Friday, August 25, 2017</td>\n",
       "      <td>232</td>\n",
       "      <td>312</td>\n",
       "      <td>282</td>\n",
       "      <td>4</td>\n",
       "      <td>2</td>\n",
       "      <td>28.84</td>\n",
       "      <td>57.68</td>\n",
       "      <td>63.45</td>\n",
       "    </tr>\n",
       "    <tr>\n",
       "      <th>4</th>\n",
       "      <td>SO44544</td>\n",
       "      <td>Saturday, November 18, 2017</td>\n",
       "      <td>292</td>\n",
       "      <td>312</td>\n",
       "      <td>282</td>\n",
       "      <td>4</td>\n",
       "      <td>2</td>\n",
       "      <td>818.70</td>\n",
       "      <td>1637.40</td>\n",
       "      <td>1413.62</td>\n",
       "    </tr>\n",
       "  </tbody>\n",
       "</table>\n",
       "</div>"
      ],
      "text/plain": [
       "  SalesOrderNumber                    OrderDate  ProductKey  ResellerKey  \\\n",
       "0          SO43897      Friday, August 25, 2017         235          312   \n",
       "1          SO43897      Friday, August 25, 2017         351          312   \n",
       "2          SO43897      Friday, August 25, 2017         348          312   \n",
       "3          SO43897      Friday, August 25, 2017         232          312   \n",
       "4          SO44544  Saturday, November 18, 2017         292          312   \n",
       "\n",
       "   EmployeeKey  SalesTerritoryKey  Quantity  Unit Price    Sales     Cost  \n",
       "0          282                  4         2       28.84    57.68    63.45  \n",
       "1          282                  4         2     2024.99  4049.98  3796.19  \n",
       "2          282                  4         2     2024.99  4049.98  3796.19  \n",
       "3          282                  4         2       28.84    57.68    63.45  \n",
       "4          282                  4         2      818.70  1637.40  1413.62  "
      ]
     },
     "execution_count": 7,
     "metadata": {},
     "output_type": "execute_result"
    }
   ],
   "source": [
    "df['Unit Price'] = df['Unit Price'].str.replace('$', '')\n",
    "df['Unit Price'] = df['Unit Price'].str.replace(',', '')\n",
    "df['Unit Price'] = pd.to_numeric(df['Unit Price'])\n",
    "\n",
    "df['Sales'] = df['Sales'].str.replace('$', '')\n",
    "df['Sales'] = df['Sales'].str.replace(',', '')\n",
    "df['Sales'] = pd.to_numeric(df['Sales'])\n",
    "\n",
    "df['Cost'] = df['Cost'].str.replace('$', '')\n",
    "df['Cost'] = df['Cost'].str.replace(',', '')\n",
    "df['Cost'] = pd.to_numeric(df['Cost'])\n",
    "\n",
    "df.head()"
   ]
  },
  {
   "cell_type": "code",
   "execution_count": 8,
   "id": "0c4fa517-cf3d-4136-bc54-aa01a27783d8",
   "metadata": {},
   "outputs": [
    {
     "data": {
      "text/plain": [
       "SalesOrderNumber      object\n",
       "OrderDate             object\n",
       "ProductKey             int64\n",
       "ResellerKey            int64\n",
       "EmployeeKey            int64\n",
       "SalesTerritoryKey      int64\n",
       "Quantity               int64\n",
       "Unit Price           float64\n",
       "Sales                float64\n",
       "Cost                 float64\n",
       "dtype: object"
      ]
     },
     "execution_count": 8,
     "metadata": {},
     "output_type": "execute_result"
    }
   ],
   "source": [
    "df.dtypes"
   ]
  },
  {
   "cell_type": "code",
   "execution_count": 9,
   "id": "ea67807f-d9c6-47f3-9195-48ffbb434167",
   "metadata": {},
   "outputs": [
    {
     "data": {
      "text/plain": [
       "76549075.63"
      ]
     },
     "execution_count": 9,
     "metadata": {},
     "output_type": "execute_result"
    }
   ],
   "source": [
    "round(df['Cost'].sum(), 2)"
   ]
  },
  {
   "cell_type": "code",
   "execution_count": 10,
   "id": "591f68b2-3110-4522-afc2-41444041fd56",
   "metadata": {},
   "outputs": [
    {
     "data": {
      "text/plain": [
       "77548570.2"
      ]
     },
     "execution_count": 10,
     "metadata": {},
     "output_type": "execute_result"
    }
   ],
   "source": [
    "round(df['Sales'].sum(), 2)"
   ]
  },
  {
   "cell_type": "code",
   "execution_count": 11,
   "id": "17aa7910-27e1-4823-ba5a-2434163dbf80",
   "metadata": {},
   "outputs": [
    {
     "data": {
      "text/html": [
       "<div>\n",
       "<style scoped>\n",
       "    .dataframe tbody tr th:only-of-type {\n",
       "        vertical-align: middle;\n",
       "    }\n",
       "\n",
       "    .dataframe tbody tr th {\n",
       "        vertical-align: top;\n",
       "    }\n",
       "\n",
       "    .dataframe thead th {\n",
       "        text-align: right;\n",
       "    }\n",
       "</style>\n",
       "<table border=\"1\" class=\"dataframe\">\n",
       "  <thead>\n",
       "    <tr style=\"text-align: right;\">\n",
       "      <th></th>\n",
       "      <th>SalesOrderNumber</th>\n",
       "      <th>OrderDate</th>\n",
       "      <th>ProductKey</th>\n",
       "      <th>ResellerKey</th>\n",
       "      <th>EmployeeKey</th>\n",
       "      <th>SalesTerritoryKey</th>\n",
       "      <th>Quantity</th>\n",
       "      <th>Unit Price</th>\n",
       "      <th>Sales</th>\n",
       "      <th>Cost</th>\n",
       "      <th>Profit</th>\n",
       "    </tr>\n",
       "  </thead>\n",
       "  <tbody>\n",
       "    <tr>\n",
       "      <th>0</th>\n",
       "      <td>SO43897</td>\n",
       "      <td>Friday, August 25, 2017</td>\n",
       "      <td>235</td>\n",
       "      <td>312</td>\n",
       "      <td>282</td>\n",
       "      <td>4</td>\n",
       "      <td>2</td>\n",
       "      <td>28.84</td>\n",
       "      <td>57.68</td>\n",
       "      <td>63.45</td>\n",
       "      <td>-5.77</td>\n",
       "    </tr>\n",
       "    <tr>\n",
       "      <th>1</th>\n",
       "      <td>SO43897</td>\n",
       "      <td>Friday, August 25, 2017</td>\n",
       "      <td>351</td>\n",
       "      <td>312</td>\n",
       "      <td>282</td>\n",
       "      <td>4</td>\n",
       "      <td>2</td>\n",
       "      <td>2024.99</td>\n",
       "      <td>4049.98</td>\n",
       "      <td>3796.19</td>\n",
       "      <td>253.79</td>\n",
       "    </tr>\n",
       "    <tr>\n",
       "      <th>2</th>\n",
       "      <td>SO43897</td>\n",
       "      <td>Friday, August 25, 2017</td>\n",
       "      <td>348</td>\n",
       "      <td>312</td>\n",
       "      <td>282</td>\n",
       "      <td>4</td>\n",
       "      <td>2</td>\n",
       "      <td>2024.99</td>\n",
       "      <td>4049.98</td>\n",
       "      <td>3796.19</td>\n",
       "      <td>253.79</td>\n",
       "    </tr>\n",
       "    <tr>\n",
       "      <th>3</th>\n",
       "      <td>SO43897</td>\n",
       "      <td>Friday, August 25, 2017</td>\n",
       "      <td>232</td>\n",
       "      <td>312</td>\n",
       "      <td>282</td>\n",
       "      <td>4</td>\n",
       "      <td>2</td>\n",
       "      <td>28.84</td>\n",
       "      <td>57.68</td>\n",
       "      <td>63.45</td>\n",
       "      <td>-5.77</td>\n",
       "    </tr>\n",
       "    <tr>\n",
       "      <th>4</th>\n",
       "      <td>SO44544</td>\n",
       "      <td>Saturday, November 18, 2017</td>\n",
       "      <td>292</td>\n",
       "      <td>312</td>\n",
       "      <td>282</td>\n",
       "      <td>4</td>\n",
       "      <td>2</td>\n",
       "      <td>818.70</td>\n",
       "      <td>1637.40</td>\n",
       "      <td>1413.62</td>\n",
       "      <td>223.78</td>\n",
       "    </tr>\n",
       "  </tbody>\n",
       "</table>\n",
       "</div>"
      ],
      "text/plain": [
       "  SalesOrderNumber                    OrderDate  ProductKey  ResellerKey  \\\n",
       "0          SO43897      Friday, August 25, 2017         235          312   \n",
       "1          SO43897      Friday, August 25, 2017         351          312   \n",
       "2          SO43897      Friday, August 25, 2017         348          312   \n",
       "3          SO43897      Friday, August 25, 2017         232          312   \n",
       "4          SO44544  Saturday, November 18, 2017         292          312   \n",
       "\n",
       "   EmployeeKey  SalesTerritoryKey  Quantity  Unit Price    Sales     Cost  \\\n",
       "0          282                  4         2       28.84    57.68    63.45   \n",
       "1          282                  4         2     2024.99  4049.98  3796.19   \n",
       "2          282                  4         2     2024.99  4049.98  3796.19   \n",
       "3          282                  4         2       28.84    57.68    63.45   \n",
       "4          282                  4         2      818.70  1637.40  1413.62   \n",
       "\n",
       "   Profit  \n",
       "0   -5.77  \n",
       "1  253.79  \n",
       "2  253.79  \n",
       "3   -5.77  \n",
       "4  223.78  "
      ]
     },
     "execution_count": 11,
     "metadata": {},
     "output_type": "execute_result"
    }
   ],
   "source": [
    "df['Profit'] = (df['Sales'] - df['Cost'])\n",
    "df.head()"
   ]
  },
  {
   "cell_type": "code",
   "execution_count": 12,
   "id": "21ee1f55-1241-4073-ad43-c456b76fd384",
   "metadata": {},
   "outputs": [
    {
     "data": {
      "text/plain": [
       "999494.5700000005"
      ]
     },
     "execution_count": 12,
     "metadata": {},
     "output_type": "execute_result"
    }
   ],
   "source": [
    "df['Profit'].sum()"
   ]
  },
  {
   "cell_type": "code",
   "execution_count": 13,
   "id": "d8678f1e-f3e2-4dc1-bdb6-ddf0a51ecd9d",
   "metadata": {},
   "outputs": [
    {
     "data": {
      "text/plain": [
       "<Axes: title={'center': 'Lucro x Vendedor'}, xlabel='EmployeeKey'>"
      ]
     },
     "execution_count": 13,
     "metadata": {},
     "output_type": "execute_result"
    },
    {
     "data": {
      "image/png": "[encoded data removed]",
      "text/plain": [
       "<Figure size 800x550 with 1 Axes>"
      ]
     },
     "metadata": {},
     "output_type": "display_data"
    }
   ],
   "source": [
    "df.groupby(df['EmployeeKey'])['Profit'].sum().sort_values(ascending=True).plot.bar( title='Lucro x Vendedor')"
   ]
  },
  {
   "cell_type": "code",
   "execution_count": 35,
   "id": "4aa52c05-4492-4237-b2a8-0aa35a819620",
   "metadata": {},
   "outputs": [
    {
     "name": "stdout",
     "output_type": "stream",
     "text": [
      "Reinitialized existing Git repository in /home/888a8e78-840e-48e4-88d5-137a7e62722c/.git/\n"
     ]
    }
   ],
   "source": [
    "!git init\n",
    "!git add archive.zip uno.ipynb dos.ipynb"
   ]
  },
  {
   "cell_type": "code",
   "execution_count": 37,
   "id": "c15243fa-8b92-4dc6-9cbd-007fecf49e18",
   "metadata": {},
   "outputs": [
    {
     "name": "stdout",
     "output_type": "stream",
     "text": [
      "On branch master\n",
      "\n",
      "No commits yet\n",
      "\n",
      "Changes to be committed:\n",
      "  (use \"git rm --cached <file>...\" to unstage)\n",
      "\t\u001b[32mnew file:   archive.zip\u001b[m\n",
      "\t\u001b[32mnew file:   dos.ipynb\u001b[m\n",
      "\t\u001b[32mnew file:   uno.ipynb\u001b[m\n",
      "\n",
      "Untracked files:\n",
      "  (use \"git add <file>...\" to include in what will be committed)\n",
      "\t\u001b[31m.anaconda/\u001b[m\n",
      "\t\u001b[31m.bashrc\u001b[m\n",
      "\t\u001b[31m.cache/\u001b[m\n",
      "\t\u001b[31m.gitconfig\u001b[m\n",
      "\t\u001b[31m.ipynb_checkpoints/\u001b[m\n",
      "\t\u001b[31m.ipython/\u001b[m\n",
      "\t\u001b[31m.jupyter/\u001b[m\n",
      "\t\u001b[31m.local/\u001b[m\n",
      "\t\u001b[31m.npm/\u001b[m\n",
      "\t\u001b[31m.profile\u001b[m\n",
      "\t\u001b[31m.pythonstartup.py\u001b[m\n",
      "\t\u001b[31m.vimrc\u001b[m\n",
      "\t\u001b[31m.wget-hsts\u001b[m\n",
      "\t\u001b[31mAnalise-de-dados-com-Pandas-e-Python/\u001b[m\n",
      "\t\u001b[31mProduct.csv\u001b[m\n",
      "\t\u001b[31mRegion.csv\u001b[m\n",
      "\t\u001b[31mReseller.csv\u001b[m\n",
      "\t\u001b[31mSales.csv\u001b[m\n",
      "\t\u001b[31mSalesperson.csv\u001b[m\n",
      "\t\u001b[31mSalespersonRegion.csv\u001b[m\n",
      "\t\u001b[31mTargets.csv\u001b[m\n",
      "\t\u001b[31mgrafico_quantiadadexmes.png\u001b[m\n",
      "\n"
     ]
    }
   ],
   "source": [
    "!git status"
   ]
  },
  {
   "cell_type": "code",
   "execution_count": 49,
   "id": "15fb342b-2cfd-44db-926b-db4b195fe8c0",
   "metadata": {},
   "outputs": [
    {
     "name": "stdout",
     "output_type": "stream",
     "text": [
      "[master (root-commit) f1b113e] first commit\n",
      " 3 files changed, 1108 insertions(+)\n",
      " create mode 100644 archive.zip\n",
      " create mode 100644 dos.ipynb\n",
      " create mode 100644 uno.ipynb\n"
     ]
    }
   ],
   "source": [
    "!git commit -m \"first commit\""
   ]
  },
  {
   "cell_type": "code",
   "execution_count": 51,
   "id": "6d4aea09-327f-4f43-a476-3c15026379b4",
   "metadata": {},
   "outputs": [],
   "source": [
    "!git branch -M main"
   ]
  },
  {
   "cell_type": "code",
   "execution_count": 69,
   "id": "ed0aac5c-5a05-45c1-a32d-209b8ac01332",
   "metadata": {},
   "outputs": [
    {
     "name": "stdout",
     "output_type": "stream",
     "text": [
      "/bin/bash: warning: here-document at line 0 delimited by end-of-file (wanted `EOF')\n",
      "Username for 'https://github.com': ^C\n",
      "joaopblume\n",
      "Joaozinho05!\n",
      "/bin/bash: EOF: command not found\n"
     ]
    }
   ],
   "source": [
    "!git push -u origin main <<EOF\n",
    "!echo \"joaopblume\"\n",
    "!echo \"Joaozinho05!\"\n",
    "!EOF"
   ]
  },
  {
   "cell_type": "code",
   "execution_count": 59,
   "id": "0de4d8ba-02cd-412e-8c1c-806f0095c2e7",
   "metadata": {},
   "outputs": [
    {
     "name": "stdout",
     "output_type": "stream",
     "text": [
      ".\t\t    .virtualenvs\n",
      "..\t\t    .wget-hsts\n",
      ".anaconda\t    Analise-de-dados-com-Pandas-e-Python\n",
      ".bashrc\t\t    Product.csv\n",
      ".cache\t\t    Region.csv\n",
      ".config\t\t    Reseller.csv\n",
      ".git\t\t    Sales.csv\n",
      ".gitconfig\t    Salesperson.csv\n",
      ".ipynb_checkpoints  SalespersonRegion.csv\n",
      ".ipython\t    Targets.csv\n",
      ".jupyter\t    archive.zip\n",
      ".local\t\t    dos.ipynb\n",
      ".npm\t\t    github\n",
      ".profile\t    grafico_quantiadadexmes.png\n",
      ".pythonstartup.py   uno.ipynb\n",
      ".vimrc\n"
     ]
    }
   ],
   "source": [
    "!ls -a"
   ]
  },
  {
   "cell_type": "code",
   "execution_count": 63,
   "id": "e140d6a2-62de-4625-98b8-cb18946aa43b",
   "metadata": {},
   "outputs": [
    {
     "name": "stdout",
     "output_type": "stream",
     "text": [
      "remote: Repository not found.\n",
      "fatal: repository 'https://github.com/joaopblume/.git/' not found\n"
     ]
    }
   ],
   "source": [
    "!git push https://joaopblume@github.com/joaopblume/.git"
   ]
  },
  {
   "cell_type": "code",
   "execution_count": null,
   "id": "df4f0fcd-e85e-429b-acb2-344dbc726fa4",
   "metadata": {},
   "outputs": [],
   "source": []
  }
 ],
 "metadata": {
  "kernelspec": {
   "display_name": "anaconda-panel-2023.05-py310",
   "language": "python",
   "name": "conda-env-anaconda-panel-2023.05-py310-py"
  },
  "language_info": {
   "codemirror_mode": {
    "name": "ipython",
    "version": 3
   },
   "file_extension": ".py",
   "mimetype": "text/x-python",
   "name": "python",
   "nbconvert_exporter": "python",
   "pygments_lexer": "ipython3",
   "version": "3.11.5"
  }
 },
 "nbformat": 4,
 "nbformat_minor": 5
}
